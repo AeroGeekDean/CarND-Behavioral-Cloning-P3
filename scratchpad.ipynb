{
 "cells": [
  {
   "cell_type": "code",
   "execution_count": null,
   "metadata": {
    "collapsed": true
   },
   "outputs": [],
   "source": [
    "import csv\n",
    "import cv2\n",
    "import numpy as np\n",
    "import matplotlib.pyplot as plt"
   ]
  },
  {
   "cell_type": "code",
   "execution_count": null,
   "metadata": {
    "collapsed": true
   },
   "outputs": [],
   "source": [
    "# Load data\n",
    "# data_path = './data/' # default sim data from Udacity\n",
    "# data_path = '../Simulator/' # my sim data\n",
    "data_path = './training_data/' # AWS sim data\n",
    "csv_file = data_path + 'driving_log.csv'"
   ]
  },
  {
   "cell_type": "code",
   "execution_count": null,
   "metadata": {
    "collapsed": true
   },
   "outputs": [],
   "source": [
    "steer_corr = 0.05 # [normalized +/-1.0] (+) right\n",
    "\n",
    "images=[]\n",
    "measurements = []\n",
    "\n",
    "with open(csv_file) as f:\n",
    "  reader = csv.reader(f)\n",
    "  next(reader) # skip 1st line\n",
    "  for line in reader:\n",
    "    steering_angle = float(line[3])\n",
    "\n",
    "    # center channel\n",
    "#    if(np.abs(steering_angle)>0.1): \n",
    "    if(1): \n",
    "      source_path = line[0]\n",
    "      filename = source_path.split('/')[-1] #remove intermediate path\n",
    "      image_file = data_path + 'IMG/' + filename\n",
    "      image = cv2.imread(image_file, cv2.COLOR_BGR2RGB)\n",
    "      images.append(image)\n",
    "\n",
    "      measurements.append(steering_angle)\n",
    "\n",
    "    # left channel\n",
    "    if(np.random.random()<.2):\n",
    "#    if(1):\n",
    "      source_path = line[1]\n",
    "      filename = source_path.split('/')[-1] #remove intermediate path\n",
    "      image_file = data_path + 'IMG/' + filename\n",
    "      image = cv2.imread(image_file, cv2.COLOR_BGR2RGB)\n",
    "      images.append(image)\n",
    "\n",
    "      measurement = steering_angle + steer_corr #steering angle\n",
    "      measurement = min(measurement, 1.0)\n",
    "      measurements.append(measurement)\n",
    "\n",
    "    # right channel\n",
    "    if(np.random.random()<.2):\n",
    "#    if(1):\n",
    "      source_path = line[2]\n",
    "      filename = source_path.split('/')[-1] #remove intermediate path\n",
    "      image_file = data_path + 'IMG/' + filename\n",
    "      image = cv2.imread(image_file, cv2.COLOR_BGR2RGB)\n",
    "      images.append(image)\n",
    "\n",
    "      measurement = steering_angle - steer_corr #steering angle\n",
    "      measurement = max(measurement, -1.0)\n",
    "      measurements.append(measurement)"
   ]
  },
  {
   "cell_type": "code",
   "execution_count": null,
   "metadata": {
    "collapsed": true
   },
   "outputs": [],
   "source": [
    "X_train = np.array(images)\n",
    "y_train = np.array(measurements)\n",
    "\n",
    "# generate flipped image data\n",
    "X_train_flip = np.array(np.fliplr(images))\n",
    "y_train_flip = -np.array(measurements)\n",
    "\n",
    "X_train = np.concatenate((X_train, X_train_flip), axis=0)\n",
    "y_train = np.concatenate((y_train, y_train_flip), axis=0)"
   ]
  },
  {
   "cell_type": "code",
   "execution_count": null,
   "metadata": {
    "collapsed": true
   },
   "outputs": [],
   "source": [
    "# train model  \n",
    "from keras.models import Sequential\n",
    "from keras.layers import Flatten, Dense, Lambda, MaxPooling2D, Dropout, Cropping2D\n",
    "from keras.layers.convolutional import Conv2D\n",
    "\n",
    "imshape = X_train[0].shape\n",
    "\n",
    "model = Sequential()\n",
    "model.add(Lambda(lambda x: ((x/255.0)-0.5),\n",
    "                 input_shape=imshape,\n",
    "                 name='lambda'))\n",
    "model.add(Cropping2D(cropping=((50,20),(0,0)),\n",
    "                     name='crop'))\n",
    "model.add(Conv2D(nb_filter=24,\n",
    "                 nb_row=5,\n",
    "                 nb_col=5,\n",
    "                 subsample=(2,2),\n",
    "                 border_mode='valid',\n",
    "                 activation='elu',\n",
    "                 name='conv1'))\n",
    "# model.add(MaxPooling2D(pool_size=(2,2)))\n",
    "model.add(Conv2D(nb_filter=36,\n",
    "                 nb_row=5,\n",
    "                 nb_col=5,\n",
    "                 subsample=(2,2),\n",
    "                 border_mode='valid',\n",
    "                 activation='elu',\n",
    "                 name='conv2'))\n",
    "model.add(Conv2D(nb_filter=48,\n",
    "                 nb_row=5,\n",
    "                 nb_col=5,\n",
    "\t\t subsample=(2,2),\n",
    "                 border_mode='valid',\n",
    "                 activation='elu',\n",
    "                 name='conv3'))\n",
    "model.add(Conv2D(nb_filter=64,\n",
    "                 nb_row=3,\n",
    "                 nb_col=3,\n",
    "                 subsample=(1,1),\n",
    "                 border_mode='valid',\n",
    "                 activation='elu',\n",
    "                 name='conv4'))\n",
    "model.add(Conv2D(nb_filter=64,\n",
    "                 nb_row=3,\n",
    "                 nb_col=3,\n",
    "                 subsample=(1,1),\n",
    "                 border_mode='valid',\n",
    "                 activation='elu',\n",
    "                 name='conv5'))\n",
    "# model.add(MaxPooling2D(pool_size=(2,2)))\n",
    "model.add(Flatten(name='flat'))\n",
    "model.add(Dropout(0.5, name='dropout'))\n",
    "model.add(Dense(100, activation='elu', name='dense1'))\n",
    "model.add(Dense(50, activation='elu', name='dense2'))\n",
    "model.add(Dense(10, activation='elu', name='dense3'))\n",
    "model.add(Dense(1, name='output'))"
   ]
  },
  {
   "cell_type": "code",
   "execution_count": null,
   "metadata": {
    "collapsed": true
   },
   "outputs": [],
   "source": [
    "from functools import reduce\n",
    "def prod(input):\n",
    "  return reduce(lambda x, y: x*y, input, 1)"
   ]
  },
  {
   "cell_type": "code",
   "execution_count": null,
   "metadata": {
    "collapsed": true
   },
   "outputs": [],
   "source": [
    "print('Layer input shapes:')\n",
    "for layer in model.layers:\n",
    "  shape = layer.get_input_shape_at(0)\n",
    "  print(layer.name, shape, ' = '+str(prod(shape[1:]))+' neurons', sep='\\t')"
   ]
  },
  {
   "cell_type": "code",
   "execution_count": null,
   "metadata": {
    "collapsed": true
   },
   "outputs": [],
   "source": [
    "model.compile(loss='mse',\n",
    "              optimizer='adam')\n",
    "history_obj = model.fit(X_train, y_train,\n",
    "                        validation_split=0.2,\n",
    "                        shuffle=True,\n",
    "                        nb_epoch=3,\n",
    "                        batch_size=64)\n",
    "model.save('model.h5')"
   ]
  },
  {
   "cell_type": "code",
   "execution_count": null,
   "metadata": {
    "collapsed": true
   },
   "outputs": [],
   "source": [
    "### print the keys contained in the history object\n",
    "print('History object keys:')\n",
    "print(history_obj.history.keys())"
   ]
  },
  {
   "cell_type": "code",
   "execution_count": null,
   "metadata": {
    "collapsed": true
   },
   "outputs": [],
   "source": [
    "### plot the training and validation loss for each epoch\n",
    "plt.plot(history_obj.history['loss'])\n",
    "plt.plot(history_obj.history['val_loss'])\n",
    "plt.title('model mean squared error loss')\n",
    "plt.ylabel('mean squared error loss')\n",
    "plt.xlabel('epoch')\n",
    "plt.legend(['training set', 'validation set'], loc='upper right')\n",
    "plt.show()"
   ]
  },
  {
   "cell_type": "code",
   "execution_count": null,
   "metadata": {
    "collapsed": true,
    "deletable": true,
    "editable": true
   },
   "outputs": [],
   "source": []
  },
  {
   "cell_type": "code",
   "execution_count": null,
   "metadata": {
    "collapsed": true,
    "deletable": true,
    "editable": true
   },
   "outputs": [],
   "source": []
  },
  {
   "cell_type": "code",
   "execution_count": null,
   "metadata": {
    "collapsed": true,
    "deletable": true,
    "editable": true
   },
   "outputs": [],
   "source": []
  },
  {
   "cell_type": "code",
   "execution_count": null,
   "metadata": {
    "collapsed": true,
    "deletable": true,
    "editable": true
   },
   "outputs": [],
   "source": []
  },
  {
   "cell_type": "code",
   "execution_count": null,
   "metadata": {
    "collapsed": true,
    "deletable": true,
    "editable": true
   },
   "outputs": [],
   "source": []
  },
  {
   "cell_type": "code",
   "execution_count": null,
   "metadata": {
    "collapsed": true,
    "deletable": true,
    "editable": true
   },
   "outputs": [],
   "source": []
  }
 ],
 "metadata": {
  "kernelspec": {
   "display_name": "Python 3",
   "language": "python",
   "name": "python3"
  },
  "language_info": {
   "codemirror_mode": {
    "name": "ipython",
    "version": 3
   },
   "file_extension": ".py",
   "mimetype": "text/x-python",
   "name": "python",
   "nbconvert_exporter": "python",
   "pygments_lexer": "ipython3",
   "version": "3.5.2"
  },
  "widgets": {
   "state": {},
   "version": "1.1.2"
  }
 },
 "nbformat": 4,
 "nbformat_minor": 2
}
